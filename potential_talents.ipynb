{
 "cells": [
  {
   "cell_type": "markdown",
   "source": [
    "# 1. Dataset Overview\n",
    "\n",
    "As a talent sourcing and management company, we are interested in finding talented individuals for sourcing these candidates to technology companies. Finding talented candidates is not easy, for several reasons. The first reason is one needs to understand what the role is very well to fill in that spot, this requires understanding the client’s needs and what they are looking for in a potential candidate. The second reason is one needs to understand what makes a candidate shine for the role we are in search for. Third, where to find talented individuals is another challenge.\n",
    "\n",
    "The nature of our job requires a lot of human labor and is full of manual operations. Towards automating this process we want to build a better approach that could save us time and finally help us spot potential candidates that could fit the roles we are in search for. Moreover, going beyond that for a specific role we want to fill in we are interested in developing a machine learning powered pipeline that could spot talented individuals, and rank them based on their fitness.\n",
    "\n",
    "We are right now semi-automatically sourcing a few candidates, therefore the sourcing part is not a concern at this time but we expect to first determine best matching candidates based on how fit these candidates are for a given role. We generally make these searches based on some keywords such as “full-stack software engineer”, “engineering manager” or “aspiring human resources” based on the role we are trying to fill in. These keywords might change, and you can expect that specific keywords will be provided to you.\n",
    "\n",
    "Assuming that we were able to list and rank fitting candidates, we then employ a review procedure, as each candidate needs to be reviewed and then determined how good a fit they are through manual inspection. This procedure is done manually and at the end of this manual review, we might choose not the first fitting candidate in the list but maybe the 7th candidate in the list. If that happens, we are interested in being able to re-rank the previous list based on this information. This supervisory signal is going to be supplied by starring the 7th candidate in the list. Starring one candidate actually sets this candidate as an ideal candidate for the given role. Then, we expect the list to be re-ranked each time a candidate is starred.\n",
    "\n",
    "The data comes from our sourcing efforts. We removed any field that could directly reveal personal details and gave a unique identifier for each candidate.\n",
    "\n",
    "Attributes:\n",
    "id : unique identifier for candidate (numeric)\n",
    "\n",
    "job_title : job title for candidate (text)\n",
    "\n",
    "location : geographical location for candidate (text)\n",
    "\n",
    "connections: number of connections candidate has, 500+ means over 500 (text)\n",
    "\n",
    "Output (desired target):\n",
    "fit - how fit the candidate is for the role? (numeric, probability between 0-1)\n",
    "\n",
    "Keywords: “Aspiring human resources” or “seeking human resources”"
   ],
   "metadata": {
    "collapsed": false
   }
  },
  {
   "cell_type": "markdown",
   "source": [
    "# 2. Exploratory Data Analysis"
   ],
   "metadata": {
    "collapsed": false
   }
  },
  {
   "cell_type": "code",
   "execution_count": 1,
   "metadata": {
    "collapsed": true,
    "ExecuteTime": {
     "end_time": "2023-12-19T07:48:45.657572300Z",
     "start_time": "2023-12-19T07:48:45.643820600Z"
    }
   },
   "outputs": [],
   "source": [
    "import numpy as np\n",
    "import pandas as pd\n",
    "import matplotlib.pyplot as plt\n",
    "import seaborn as sns"
   ]
  },
  {
   "cell_type": "code",
   "execution_count": 2,
   "outputs": [
    {
     "data": {
      "text/plain": "                                            job_title  \\\nid                                                      \n1   2019 C.T. Bauer College of Business Graduate (...   \n2   Native English Teacher at EPIK (English Progra...   \n3               Aspiring Human Resources Professional   \n4              People Development Coordinator at Ryan   \n5     Advisory Board Member at Celal Bayar University   \n\n                               location connection  fit  \nid                                                       \n1                        Houston, Texas         85  NaN  \n2                                Kanada      500+   NaN  \n3   Raleigh-Durham, North Carolina Area         44  NaN  \n4                         Denton, Texas      500+   NaN  \n5                        İzmir, Türkiye      500+   NaN  ",
      "text/html": "<div>\n<style scoped>\n    .dataframe tbody tr th:only-of-type {\n        vertical-align: middle;\n    }\n\n    .dataframe tbody tr th {\n        vertical-align: top;\n    }\n\n    .dataframe thead th {\n        text-align: right;\n    }\n</style>\n<table border=\"1\" class=\"dataframe\">\n  <thead>\n    <tr style=\"text-align: right;\">\n      <th></th>\n      <th>job_title</th>\n      <th>location</th>\n      <th>connection</th>\n      <th>fit</th>\n    </tr>\n    <tr>\n      <th>id</th>\n      <th></th>\n      <th></th>\n      <th></th>\n      <th></th>\n    </tr>\n  </thead>\n  <tbody>\n    <tr>\n      <th>1</th>\n      <td>2019 C.T. Bauer College of Business Graduate (...</td>\n      <td>Houston, Texas</td>\n      <td>85</td>\n      <td>NaN</td>\n    </tr>\n    <tr>\n      <th>2</th>\n      <td>Native English Teacher at EPIK (English Progra...</td>\n      <td>Kanada</td>\n      <td>500+</td>\n      <td>NaN</td>\n    </tr>\n    <tr>\n      <th>3</th>\n      <td>Aspiring Human Resources Professional</td>\n      <td>Raleigh-Durham, North Carolina Area</td>\n      <td>44</td>\n      <td>NaN</td>\n    </tr>\n    <tr>\n      <th>4</th>\n      <td>People Development Coordinator at Ryan</td>\n      <td>Denton, Texas</td>\n      <td>500+</td>\n      <td>NaN</td>\n    </tr>\n    <tr>\n      <th>5</th>\n      <td>Advisory Board Member at Celal Bayar University</td>\n      <td>İzmir, Türkiye</td>\n      <td>500+</td>\n      <td>NaN</td>\n    </tr>\n  </tbody>\n</table>\n</div>"
     },
     "execution_count": 2,
     "metadata": {},
     "output_type": "execute_result"
    }
   ],
   "source": [
    "df = pd.read_csv(\"potential-talents - Aspiring human resources - seeking human resources.csv\", index_col='id')\n",
    "df.head()"
   ],
   "metadata": {
    "collapsed": false,
    "ExecuteTime": {
     "end_time": "2023-12-19T07:48:45.718335Z",
     "start_time": "2023-12-19T07:48:45.659567200Z"
    }
   }
  },
  {
   "cell_type": "code",
   "execution_count": 3,
   "outputs": [
    {
     "name": "stdout",
     "output_type": "stream",
     "text": [
      "<class 'pandas.core.frame.DataFrame'>\n",
      "Index: 104 entries, 1 to 104\n",
      "Data columns (total 4 columns):\n",
      " #   Column      Non-Null Count  Dtype  \n",
      "---  ------      --------------  -----  \n",
      " 0   job_title   104 non-null    object \n",
      " 1   location    104 non-null    object \n",
      " 2   connection  104 non-null    object \n",
      " 3   fit         0 non-null      float64\n",
      "dtypes: float64(1), object(3)\n",
      "memory usage: 4.1+ KB\n"
     ]
    }
   ],
   "source": [
    "df.info()"
   ],
   "metadata": {
    "collapsed": false,
    "ExecuteTime": {
     "end_time": "2023-12-19T07:48:45.763776200Z",
     "start_time": "2023-12-19T07:48:45.691392300Z"
    }
   }
  },
  {
   "cell_type": "markdown",
   "source": [
    "# 3. Data Preprocessing"
   ],
   "metadata": {
    "collapsed": false
   }
  },
  {
   "cell_type": "code",
   "execution_count": 4,
   "outputs": [
    {
     "name": "stdout",
     "output_type": "stream",
     "text": [
      "There were 104 rows in the dataframe\n",
      "Now, there are 53 rows in the dataframe after removing duplicate values\n"
     ]
    },
    {
     "data": {
      "text/plain": "Text(0.5, 0, 'Number of Candidates')"
     },
     "execution_count": 4,
     "metadata": {},
     "output_type": "execute_result"
    },
    {
     "data": {
      "text/plain": "<Figure size 640x480 with 1 Axes>",
      "image/png": "[encoded data removed]"
     },
     "metadata": {},
     "output_type": "display_data"
    }
   ],
   "source": [
    "# Remove Duplicates\n",
    "print(f'There were {len(df)} rows in the dataframe')\n",
    "dff = df.drop_duplicates()\n",
    "print(f'Now, there are {len(dff)} rows in the dataframe after removing duplicate values')\n",
    "\n",
    "plt.figure()\n",
    "sns.barplot(y=['Dataframe after preprocessing', 'Original Dataframe'], x=[len(dff), len(df)])\n",
    "plt.title(\"Dataframe After Duplicate Removal\")\n",
    "plt.xlabel(\"Number of Candidates\")"
   ],
   "metadata": {
    "collapsed": false,
    "ExecuteTime": {
     "end_time": "2023-12-19T07:48:45.925362500Z",
     "start_time": "2023-12-19T07:48:45.706351100Z"
    }
   }
  },
  {
   "cell_type": "code",
   "execution_count": 5,
   "outputs": [
    {
     "data": {
      "text/plain": "                                    job_title             location connection  \\\ncount                                      53                   53         53   \nunique                                     52                   41         33   \ntop     Aspiring Human Resources Professional  Houston, Texas Area      500+    \nfreq                                        2                    4         18   \nmean                                      NaN                  NaN        NaN   \nstd                                       NaN                  NaN        NaN   \nmin                                       NaN                  NaN        NaN   \n25%                                       NaN                  NaN        NaN   \n50%                                       NaN                  NaN        NaN   \n75%                                       NaN                  NaN        NaN   \nmax                                       NaN                  NaN        NaN   \n\n        fit  \ncount   0.0  \nunique  NaN  \ntop     NaN  \nfreq    NaN  \nmean    NaN  \nstd     NaN  \nmin     NaN  \n25%     NaN  \n50%     NaN  \n75%     NaN  \nmax     NaN  ",
      "text/html": "<div>\n<style scoped>\n    .dataframe tbody tr th:only-of-type {\n        vertical-align: middle;\n    }\n\n    .dataframe tbody tr th {\n        vertical-align: top;\n    }\n\n    .dataframe thead th {\n        text-align: right;\n    }\n</style>\n<table border=\"1\" class=\"dataframe\">\n  <thead>\n    <tr style=\"text-align: right;\">\n      <th></th>\n      <th>job_title</th>\n      <th>location</th>\n      <th>connection</th>\n      <th>fit</th>\n    </tr>\n  </thead>\n  <tbody>\n    <tr>\n      <th>count</th>\n      <td>53</td>\n      <td>53</td>\n      <td>53</td>\n      <td>0.0</td>\n    </tr>\n    <tr>\n      <th>unique</th>\n      <td>52</td>\n      <td>41</td>\n      <td>33</td>\n      <td>NaN</td>\n    </tr>\n    <tr>\n      <th>top</th>\n      <td>Aspiring Human Resources Professional</td>\n      <td>Houston, Texas Area</td>\n      <td>500+</td>\n      <td>NaN</td>\n    </tr>\n    <tr>\n      <th>freq</th>\n      <td>2</td>\n      <td>4</td>\n      <td>18</td>\n      <td>NaN</td>\n    </tr>\n    <tr>\n      <th>mean</th>\n      <td>NaN</td>\n      <td>NaN</td>\n      <td>NaN</td>\n      <td>NaN</td>\n    </tr>\n    <tr>\n      <th>std</th>\n      <td>NaN</td>\n      <td>NaN</td>\n      <td>NaN</td>\n      <td>NaN</td>\n    </tr>\n    <tr>\n      <th>min</th>\n      <td>NaN</td>\n      <td>NaN</td>\n      <td>NaN</td>\n      <td>NaN</td>\n    </tr>\n    <tr>\n      <th>25%</th>\n      <td>NaN</td>\n      <td>NaN</td>\n      <td>NaN</td>\n      <td>NaN</td>\n    </tr>\n    <tr>\n      <th>50%</th>\n      <td>NaN</td>\n      <td>NaN</td>\n      <td>NaN</td>\n      <td>NaN</td>\n    </tr>\n    <tr>\n      <th>75%</th>\n      <td>NaN</td>\n      <td>NaN</td>\n      <td>NaN</td>\n      <td>NaN</td>\n    </tr>\n    <tr>\n      <th>max</th>\n      <td>NaN</td>\n      <td>NaN</td>\n      <td>NaN</td>\n      <td>NaN</td>\n    </tr>\n  </tbody>\n</table>\n</div>"
     },
     "execution_count": 5,
     "metadata": {},
     "output_type": "execute_result"
    }
   ],
   "source": [
    "dff.describe(include='all')"
   ],
   "metadata": {
    "collapsed": false,
    "ExecuteTime": {
     "end_time": "2023-12-19T07:48:45.939324800Z",
     "start_time": "2023-12-19T07:48:45.926360400Z"
    }
   }
  },
  {
   "cell_type": "code",
   "execution_count": 6,
   "outputs": [],
   "source": [
    "import nltk\n",
    "import random\n",
    "from nltk.corpus import stopwords\n",
    "from nltk.tokenize import word_tokenize\n",
    "from nltk.stem import WordNetLemmatizer\n",
    "from sklearn.feature_extraction.text import TfidfVectorizer\n",
    "from scipy.spatial.distance import cosine\n",
    "from gensim.models import KeyedVectors, Word2Vec\n",
    "from gensim.scripts.glove2word2vec import glove2word2vec\n",
    "from gensim.test.utils import get_tmpfile\n",
    "\n",
    "# Stopword Removal\n",
    "df_cleaned = dff.copy()\n",
    "\n",
    "stopWords = set(stopwords.words('english'))\n",
    "lemmatizer = WordNetLemmatizer()\n",
    "\n",
    "# Function to clean and lemmatize job titles\n",
    "def clean_job_title(jobTitle):\n",
    "    # Replace specific abbreviations and convert to lowercase\n",
    "    jobTitle = jobTitle.replace(\"HR\", \" human resources \").lower()\n",
    "    jobTitle = jobTitle.replace(\"HRIS\", \" human resources information system \").lower()\n",
    "    jobTitle = jobTitle.replace(\"SPHR\", \" senior professional in human resources \").lower()\n",
    "    jobTitle = jobTitle.replace(\"GPHR\", \" global professional in human resources \").lower()\n",
    "    jobTitle = jobTitle.replace(\"CHRO\", \" chief human resources officer \").lower()\n",
    "\n",
    "    # Lemmatize and remove stopwords\n",
    "    words = [lemmatizer.lemmatize(word) for word in jobTitle.split() if word.isalnum() and word not in stopWords]\n",
    "\n",
    "    return \" \".join(words)\n",
    "\n",
    "# Apply the function to each job title\n",
    "df_cleaned['jobTitleCleaned'] = df_cleaned['job_title'].apply(clean_job_title)"
   ],
   "metadata": {
    "collapsed": false,
    "ExecuteTime": {
     "end_time": "2023-12-19T07:48:47.831040300Z",
     "start_time": "2023-12-19T07:48:45.943313200Z"
    }
   }
  },
  {
   "cell_type": "code",
   "execution_count": 7,
   "outputs": [
    {
     "data": {
      "text/plain": "                                            job_title  \\\nid                                                      \n1   2019 C.T. Bauer College of Business Graduate (...   \n2   Native English Teacher at EPIK (English Progra...   \n3               Aspiring Human Resources Professional   \n4              People Development Coordinator at Ryan   \n5     Advisory Board Member at Celal Bayar University   \n\n                               location connection  fit  \\\nid                                                        \n1                        Houston, Texas         85  NaN   \n2                                Kanada      500+   NaN   \n3   Raleigh-Durham, North Carolina Area         44  NaN   \n4                         Denton, Texas      500+   NaN   \n5                        İzmir, Türkiye      500+   NaN   \n\n                                      jobTitleCleaned  \nid                                                     \n1   2019 bauer college business graduate cum aspir...  \n2                 native english teacher epik program  \n3                aspiring human resource professional  \n4                 people development coordinator ryan  \n5        advisory board member celal bayar university  ",
      "text/html": "<div>\n<style scoped>\n    .dataframe tbody tr th:only-of-type {\n        vertical-align: middle;\n    }\n\n    .dataframe tbody tr th {\n        vertical-align: top;\n    }\n\n    .dataframe thead th {\n        text-align: right;\n    }\n</style>\n<table border=\"1\" class=\"dataframe\">\n  <thead>\n    <tr style=\"text-align: right;\">\n      <th></th>\n      <th>job_title</th>\n      <th>location</th>\n      <th>connection</th>\n      <th>fit</th>\n      <th>jobTitleCleaned</th>\n    </tr>\n    <tr>\n      <th>id</th>\n      <th></th>\n      <th></th>\n      <th></th>\n      <th></th>\n      <th></th>\n    </tr>\n  </thead>\n  <tbody>\n    <tr>\n      <th>1</th>\n      <td>2019 C.T. Bauer College of Business Graduate (...</td>\n      <td>Houston, Texas</td>\n      <td>85</td>\n      <td>NaN</td>\n      <td>2019 bauer college business graduate cum aspir...</td>\n    </tr>\n    <tr>\n      <th>2</th>\n      <td>Native English Teacher at EPIK (English Progra...</td>\n      <td>Kanada</td>\n      <td>500+</td>\n      <td>NaN</td>\n      <td>native english teacher epik program</td>\n    </tr>\n    <tr>\n      <th>3</th>\n      <td>Aspiring Human Resources Professional</td>\n      <td>Raleigh-Durham, North Carolina Area</td>\n      <td>44</td>\n      <td>NaN</td>\n      <td>aspiring human resource professional</td>\n    </tr>\n    <tr>\n      <th>4</th>\n      <td>People Development Coordinator at Ryan</td>\n      <td>Denton, Texas</td>\n      <td>500+</td>\n      <td>NaN</td>\n      <td>people development coordinator ryan</td>\n    </tr>\n    <tr>\n      <th>5</th>\n      <td>Advisory Board Member at Celal Bayar University</td>\n      <td>İzmir, Türkiye</td>\n      <td>500+</td>\n      <td>NaN</td>\n      <td>advisory board member celal bayar university</td>\n    </tr>\n  </tbody>\n</table>\n</div>"
     },
     "execution_count": 7,
     "metadata": {},
     "output_type": "execute_result"
    }
   ],
   "source": [
    "df_cleaned.head()"
   ],
   "metadata": {
    "collapsed": false,
    "ExecuteTime": {
     "end_time": "2023-12-19T07:48:47.848055600Z",
     "start_time": "2023-12-19T07:48:47.833036300Z"
    }
   }
  },
  {
   "cell_type": "markdown",
   "source": [
    "# 4. Ranking Candidates"
   ],
   "metadata": {
    "collapsed": false
   }
  },
  {
   "cell_type": "markdown",
   "source": [
    "## TF-IDF"
   ],
   "metadata": {
    "collapsed": false
   }
  },
  {
   "cell_type": "code",
   "execution_count": 8,
   "outputs": [],
   "source": [
    "keyPhrases = ['aspiring human resources', 'seeking human resources']\n",
    "\n",
    "keyPhrases = [' '.join([lemmatizer.lemmatize(token) for token in phrase.split()]) for phrase in keyPhrases]\n",
    "\n",
    "jobTitleList = list(df_cleaned['jobTitleCleaned'])"
   ],
   "metadata": {
    "collapsed": false,
    "ExecuteTime": {
     "end_time": "2023-12-19T07:48:47.879853900Z",
     "start_time": "2023-12-19T07:48:47.850050100Z"
    }
   }
  },
  {
   "cell_type": "code",
   "execution_count": 9,
   "outputs": [],
   "source": [
    "def cosine_sim(v1, v2):\n",
    "    return 1 - cosine(v1, v2)"
   ],
   "metadata": {
    "collapsed": false,
    "ExecuteTime": {
     "end_time": "2023-12-19T07:48:47.904959500Z",
     "start_time": "2023-12-19T07:48:47.867098600Z"
    }
   }
  },
  {
   "cell_type": "code",
   "execution_count": 10,
   "outputs": [],
   "source": [
    "# Initialize the TfidfVectorizer\n",
    "vectorizer = TfidfVectorizer()\n",
    "\n",
    "# Tf-Idf of job titles\n",
    "tfidfVectors = vectorizer.fit_transform(df_cleaned['jobTitleCleaned']).toarray()\n",
    "\n",
    "# Tf-Idf of key phrases\n",
    "keyVectors = vectorizer.transform(keyPhrases).toarray()"
   ],
   "metadata": {
    "collapsed": false,
    "ExecuteTime": {
     "end_time": "2023-12-19T07:48:47.931362Z",
     "start_time": "2023-12-19T07:48:47.879853900Z"
    }
   }
  },
  {
   "cell_type": "code",
   "execution_count": 11,
   "outputs": [],
   "source": [
    "score1Array = np.apply_along_axis(cosine_sim, 1, tfidfVectors, keyVectors[0])\n",
    "score2Array = np.apply_along_axis(cosine_sim, 1, tfidfVectors, keyVectors[1])\n",
    "\n",
    "# Compute average cosine similarity score\n",
    "cosSimScore = (score1Array + score2Array) / 2\n",
    "\n",
    "# Assign the results back to the DataFrame\n",
    "df_cleaned['score1'] = score1Array\n",
    "df_cleaned['score2'] = score2Array\n",
    "df_cleaned['cosSimScore'] = cosSimScore"
   ],
   "metadata": {
    "collapsed": false,
    "ExecuteTime": {
     "end_time": "2023-12-19T07:48:47.990204900Z",
     "start_time": "2023-12-19T07:48:47.896825800Z"
    }
   }
  },
  {
   "cell_type": "code",
   "execution_count": 12,
   "outputs": [
    {
     "data": {
      "text/plain": "                                      jobTitleCleaned  cosSimScore\nid                                                                \n73   aspiring human resource seeking internship human     0.626063\n10  seeking human resource human resource generali...     0.544917\n97               aspiring human resource professional     0.536425\n3                aspiring human resource professional     0.536425\n99                    seeking human resource position     0.495025",
      "text/html": "<div>\n<style scoped>\n    .dataframe tbody tr th:only-of-type {\n        vertical-align: middle;\n    }\n\n    .dataframe tbody tr th {\n        vertical-align: top;\n    }\n\n    .dataframe thead th {\n        text-align: right;\n    }\n</style>\n<table border=\"1\" class=\"dataframe\">\n  <thead>\n    <tr style=\"text-align: right;\">\n      <th></th>\n      <th>jobTitleCleaned</th>\n      <th>cosSimScore</th>\n    </tr>\n    <tr>\n      <th>id</th>\n      <th></th>\n      <th></th>\n    </tr>\n  </thead>\n  <tbody>\n    <tr>\n      <th>73</th>\n      <td>aspiring human resource seeking internship human</td>\n      <td>0.626063</td>\n    </tr>\n    <tr>\n      <th>10</th>\n      <td>seeking human resource human resource generali...</td>\n      <td>0.544917</td>\n    </tr>\n    <tr>\n      <th>97</th>\n      <td>aspiring human resource professional</td>\n      <td>0.536425</td>\n    </tr>\n    <tr>\n      <th>3</th>\n      <td>aspiring human resource professional</td>\n      <td>0.536425</td>\n    </tr>\n    <tr>\n      <th>99</th>\n      <td>seeking human resource position</td>\n      <td>0.495025</td>\n    </tr>\n  </tbody>\n</table>\n</div>"
     },
     "execution_count": 12,
     "metadata": {},
     "output_type": "execute_result"
    }
   ],
   "source": [
    "df_cleaned[['jobTitleCleaned', 'cosSimScore']].sort_values(by=['cosSimScore'], ascending=False).head()"
   ],
   "metadata": {
    "collapsed": false,
    "ExecuteTime": {
     "end_time": "2023-12-19T07:48:47.990204900Z",
     "start_time": "2023-12-19T07:48:47.911941200Z"
    }
   }
  },
  {
   "cell_type": "markdown",
   "source": [
    "## Word Embedding"
   ],
   "metadata": {
    "collapsed": false
   }
  },
  {
   "cell_type": "markdown",
   "source": [
    "### 1. GloVe"
   ],
   "metadata": {
    "collapsed": false
   }
  },
  {
   "cell_type": "code",
   "execution_count": 13,
   "outputs": [
    {
     "name": "stderr",
     "output_type": "stream",
     "text": [
      "C:\\Users\\asus\\AppData\\Local\\Temp\\ipykernel_8788\\4196707061.py:4: DeprecationWarning: Call to deprecated `glove2word2vec` (KeyedVectors.load_word2vec_format(.., binary=False, no_header=True) loads GLoVE text vectors.).\n",
      "  glove2word2vec('glove.6B.50d.txt', target_file)\n"
     ]
    }
   ],
   "source": [
    "from gensim.test.utils import get_tmpfile\n",
    "\n",
    "target_file = get_tmpfile('word2vec.6B.50d.txt')\n",
    "glove2word2vec('glove.6B.50d.txt', target_file)\n",
    "\n",
    "glove_model = KeyedVectors.load_word2vec_format(target_file)\n",
    "\n",
    "glove_model.save_word2vec_format('word2vec.6B.50d.bin.gz', binary = True)"
   ],
   "metadata": {
    "collapsed": false,
    "ExecuteTime": {
     "end_time": "2023-12-19T07:49:26.306270600Z",
     "start_time": "2023-12-19T07:48:47.924380100Z"
    }
   }
  },
  {
   "cell_type": "code",
   "execution_count": 14,
   "outputs": [],
   "source": [
    "def avg_doc_token_vectors(documents, model, vector_dimensions):\n",
    "    document_vectors = []\n",
    "    for sentence in documents:\n",
    "        word_tokens = word_tokenize(sentence)\n",
    "        filtered_words = [w for w in word_tokens if w in model.key_to_index.keys()]\n",
    "        vectors = [model[word] if word in filtered_words else np.zeros(vector_dimensions) for word in word_tokens]\n",
    "        document_vectors.append(np.mean(vectors, axis=0))\n",
    "    return document_vectors\n",
    "\n",
    "glove_vectors = avg_doc_token_vectors(df_cleaned['jobTitleCleaned'], glove_model, 50)\n",
    "\n",
    "keyPhrases = ['aspiring human resources', 'seeking human resources']\n",
    "glove_key_vectors = avg_doc_token_vectors(keyPhrases, glove_model, 50)\n",
    "\n",
    "glove_similarity_scores = [cosine_sim(glove_vectors[i], glove_key_vectors[0]) for i in range(len(glove_vectors))]\n",
    "\n",
    "df_cleaned['GloVe_sim_score'] = glove_similarity_scores"
   ],
   "metadata": {
    "collapsed": false,
    "ExecuteTime": {
     "end_time": "2023-12-19T07:49:26.340705900Z",
     "start_time": "2023-12-19T07:49:26.310259800Z"
    }
   }
  },
  {
   "cell_type": "code",
   "execution_count": 15,
   "outputs": [
    {
     "data": {
      "text/plain": "                                      jobTitleCleaned  GloVe_sim_score\nid                                                                    \n73   aspiring human resource seeking internship human         0.941376\n6                  aspiring human resource specialist         0.939268\n3                aspiring human resource professional         0.931925\n97               aspiring human resource professional         0.931925\n76  aspiring human resource professional passionat...         0.916243",
      "text/html": "<div>\n<style scoped>\n    .dataframe tbody tr th:only-of-type {\n        vertical-align: middle;\n    }\n\n    .dataframe tbody tr th {\n        vertical-align: top;\n    }\n\n    .dataframe thead th {\n        text-align: right;\n    }\n</style>\n<table border=\"1\" class=\"dataframe\">\n  <thead>\n    <tr style=\"text-align: right;\">\n      <th></th>\n      <th>jobTitleCleaned</th>\n      <th>GloVe_sim_score</th>\n    </tr>\n    <tr>\n      <th>id</th>\n      <th></th>\n      <th></th>\n    </tr>\n  </thead>\n  <tbody>\n    <tr>\n      <th>73</th>\n      <td>aspiring human resource seeking internship human</td>\n      <td>0.941376</td>\n    </tr>\n    <tr>\n      <th>6</th>\n      <td>aspiring human resource specialist</td>\n      <td>0.939268</td>\n    </tr>\n    <tr>\n      <th>3</th>\n      <td>aspiring human resource professional</td>\n      <td>0.931925</td>\n    </tr>\n    <tr>\n      <th>97</th>\n      <td>aspiring human resource professional</td>\n      <td>0.931925</td>\n    </tr>\n    <tr>\n      <th>76</th>\n      <td>aspiring human resource professional passionat...</td>\n      <td>0.916243</td>\n    </tr>\n  </tbody>\n</table>\n</div>"
     },
     "execution_count": 15,
     "metadata": {},
     "output_type": "execute_result"
    }
   ],
   "source": [
    "df_cleaned[['jobTitleCleaned', 'GloVe_sim_score']].sort_values(by=['GloVe_sim_score'], ascending=False).head()"
   ],
   "metadata": {
    "collapsed": false,
    "ExecuteTime": {
     "end_time": "2023-12-19T07:49:26.352675100Z",
     "start_time": "2023-12-19T07:49:26.341707400Z"
    }
   }
  },
  {
   "cell_type": "markdown",
   "source": [
    "### 2. BERT"
   ],
   "metadata": {
    "collapsed": false
   }
  },
  {
   "cell_type": "code",
   "execution_count": 16,
   "outputs": [],
   "source": [
    "from transformers import BertTokenizer, BertModel\n",
    "import torch\n",
    "\n",
    "tokenizer = BertTokenizer.from_pretrained('bert-base-uncased')\n",
    "model = BertModel.from_pretrained('bert-base-uncased')"
   ],
   "metadata": {
    "collapsed": false,
    "ExecuteTime": {
     "end_time": "2023-12-19T07:49:36.392893500Z",
     "start_time": "2023-12-19T07:49:26.354668800Z"
    }
   }
  },
  {
   "cell_type": "code",
   "execution_count": 17,
   "outputs": [],
   "source": [
    "def get_bert_embedding(sentence):\n",
    "    # Tokenize and encode sentence\n",
    "    inputs = tokenizer(sentence, return_tensors=\"pt\", padding=True, truncation=True, max_length=512)\n",
    "    outputs = model(**inputs)\n",
    "\n",
    "    # Use the mean of the token embeddings as the sentence embedding\n",
    "    embeddings = outputs.last_hidden_state\n",
    "    sentence_embedding = torch.mean(embeddings, dim=1).squeeze().detach().numpy()\n",
    "    return sentence_embedding"
   ],
   "metadata": {
    "collapsed": false,
    "ExecuteTime": {
     "end_time": "2023-12-19T07:49:36.408851900Z",
     "start_time": "2023-12-19T07:49:36.393891100Z"
    }
   }
  },
  {
   "cell_type": "code",
   "execution_count": 18,
   "outputs": [],
   "source": [
    "df_cleaned['bert_embedding'] = df_cleaned['jobTitleCleaned'].apply(get_bert_embedding)"
   ],
   "metadata": {
    "collapsed": false,
    "ExecuteTime": {
     "end_time": "2023-12-19T07:49:38.165128100Z",
     "start_time": "2023-12-19T07:49:36.409848900Z"
    }
   }
  },
  {
   "cell_type": "code",
   "execution_count": 19,
   "outputs": [],
   "source": [
    "key_bert_embeddings = [get_bert_embedding(phrase) for phrase in keyPhrases]\n",
    "\n",
    "def bert_cosine_sim(v1, v2):\n",
    "    return 1 - cosine(v1, v2)\n",
    "\n",
    "for i, key_emb in enumerate(key_bert_embeddings):\n",
    "    df_cleaned[f'bert_score_{i}'] = df_cleaned['bert_embedding'].apply(lambda x: bert_cosine_sim(x, key_emb))\n",
    "\n",
    "df_cleaned['bert_avg_score'] = df_cleaned[[f'bert_score_{i}' for i in range(len(key_bert_embeddings))]].mean(axis=1)"
   ],
   "metadata": {
    "collapsed": false,
    "ExecuteTime": {
     "end_time": "2023-12-19T07:49:38.256881700Z",
     "start_time": "2023-12-19T07:49:38.162135Z"
    }
   }
  },
  {
   "cell_type": "code",
   "execution_count": 20,
   "outputs": [
    {
     "data": {
      "text/plain": "                         jobTitleCleaned  bert_avg_score\nid                                                      \n99       seeking human resource position        0.876121\n3   aspiring human resource professional        0.846641\n97  aspiring human resource professional        0.846641\n6     aspiring human resource specialist        0.840032\n28    seeking human resource opportunity        0.834276",
      "text/html": "<div>\n<style scoped>\n    .dataframe tbody tr th:only-of-type {\n        vertical-align: middle;\n    }\n\n    .dataframe tbody tr th {\n        vertical-align: top;\n    }\n\n    .dataframe thead th {\n        text-align: right;\n    }\n</style>\n<table border=\"1\" class=\"dataframe\">\n  <thead>\n    <tr style=\"text-align: right;\">\n      <th></th>\n      <th>jobTitleCleaned</th>\n      <th>bert_avg_score</th>\n    </tr>\n    <tr>\n      <th>id</th>\n      <th></th>\n      <th></th>\n    </tr>\n  </thead>\n  <tbody>\n    <tr>\n      <th>99</th>\n      <td>seeking human resource position</td>\n      <td>0.876121</td>\n    </tr>\n    <tr>\n      <th>3</th>\n      <td>aspiring human resource professional</td>\n      <td>0.846641</td>\n    </tr>\n    <tr>\n      <th>97</th>\n      <td>aspiring human resource professional</td>\n      <td>0.846641</td>\n    </tr>\n    <tr>\n      <th>6</th>\n      <td>aspiring human resource specialist</td>\n      <td>0.840032</td>\n    </tr>\n    <tr>\n      <th>28</th>\n      <td>seeking human resource opportunity</td>\n      <td>0.834276</td>\n    </tr>\n  </tbody>\n</table>\n</div>"
     },
     "execution_count": 20,
     "metadata": {},
     "output_type": "execute_result"
    }
   ],
   "source": [
    "df_cleaned[['jobTitleCleaned', 'bert_avg_score']].sort_values(by=['bert_avg_score'], ascending=False).head()"
   ],
   "metadata": {
    "collapsed": false,
    "ExecuteTime": {
     "end_time": "2023-12-19T07:49:38.284594600Z",
     "start_time": "2023-12-19T07:49:38.257159900Z"
    }
   }
  }
 ],
 "metadata": {
  "kernelspec": {
   "display_name": "Python 3",
   "language": "python",
   "name": "python3"
  },
  "language_info": {
   "codemirror_mode": {
    "name": "ipython",
    "version": 2
   },
   "file_extension": ".py",
   "mimetype": "text/x-python",
   "name": "python",
   "nbconvert_exporter": "python",
   "pygments_lexer": "ipython2",
   "version": "2.7.6"
  }
 },
 "nbformat": 4,
 "nbformat_minor": 0
}
